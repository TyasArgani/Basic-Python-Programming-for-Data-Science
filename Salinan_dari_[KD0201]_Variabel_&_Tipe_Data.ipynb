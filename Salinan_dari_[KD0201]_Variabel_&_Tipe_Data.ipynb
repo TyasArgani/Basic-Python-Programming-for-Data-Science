{
  "nbformat": 4,
  "nbformat_minor": 0,
  "metadata": {
    "colab": {
      "name": "Salinan dari [KD0201]_Variabel_&_Tipe_Data.ipynb",
      "provenance": [],
      "collapsed_sections": [],
      "toc_visible": true
    },
    "kernelspec": {
      "display_name": "Python 3",
      "name": "python3"
    }
  },
  "cells": [
    {
      "cell_type": "markdown",
      "metadata": {
        "id": "Og624K31g4Ja"
      },
      "source": [
        "![alt text](https://drive.google.com/uc?id=1oZeOBAOozxedBi-jq-LzN8BQd0NB7Ocy\n",
        ")\n",
        "\n",
        "\n"
      ]
    },
    {
      "cell_type": "markdown",
      "metadata": {
        "id": "g72baECruJew"
      },
      "source": [
        "Assalamualaikum warahmatullahi wabarakatuh.\n",
        "\n",
        "***Robbi Zidni Ilma Warzuqni Fahma***\n",
        "\n",
        "Semoga Allah memberi kemudahan untuk kita memperoleh ilmu yang bermanfaat.\n",
        "\n",
        "Ini adalah notebook yang disusun untuk **Kelas Dasar Pejuang Data Sains 2.0** .\n",
        "\n",
        "Ini adalah **Notebook Variabel & Tipe Data**:\n",
        "\n",
        "## **Hasil Yang Ingin Dicapai**\n",
        "1. Memahami input dan output pada python\n",
        "2. Mengenal dan memahami variabel dan tipe data pada python\n",
        "3. Mengenal dan memahami struktur data pada python\n",
        "\n",
        "### ***!!!***\n",
        "\n",
        "***Sebelum memulai mempelajari notebook ini, jangan lupa untuk menyalinnya di drive masing-masing ya.***\n",
        "\n",
        "### ***!!!***\n"
      ]
    },
    {
      "cell_type": "markdown",
      "metadata": {
        "id": "0KrQhq25d3XW"
      },
      "source": [
        "##  **Input & Output pada Pyhton**"
      ]
    },
    {
      "cell_type": "markdown",
      "metadata": {
        "id": "q9n37nDmd8-5"
      },
      "source": [
        "Kita akan memulai dengan mencoba mengenal dan memahami proses input dan output pada bahasa pemrograman python. Sebuah Program terdiri dari Input, Proses dan Output\n",
        "\n",
        "**Membuat input dengan fungsi input()**\n",
        "\n",
        "format input() :\n",
        "input(*object, nilai)\n",
        "\n",
        "Sebuah input dapat dikelola berdasarkan tipe datanya :\n",
        "\n",
        "* input() : nilai berupa string\n",
        "\n",
        "* str(input()) : nilai berupa string\n",
        "\n",
        "* int(input()) : nilai berupa integer\n",
        "\n",
        "* float(input()) : nilai berupa float\n",
        "\n",
        "* bool(input()) : nilai berupa boolean\n",
        "\n",
        "**Untuk menampilkan Output dengan fungsi print()**\n",
        "\n",
        "format print() :\n",
        "print(*object, sep=' ', end='\\n', file=sys.stdout, flush=False/True)"
      ]
    },
    {
      "cell_type": "code",
      "metadata": {
        "colab": {
          "background_save": true
        },
        "id": "owIrz7XYeZb-"
      },
      "source": [
        "# Membuat input bertipe data string (str)\n",
        "nama = input(\"Nama : \")\n",
        "hobi = input(\"Hobi : \")\n",
        "ttl = input(\"Ttl : \")"
      ],
      "execution_count": null,
      "outputs": []
    },
    {
      "cell_type": "code",
      "metadata": {
        "colab": {
          "base_uri": "https://localhost:8080/"
        },
        "id": "AUYUbTLklIax",
        "outputId": "0e96afb6-bbd4-489e-8d90-6c55d284f924"
      },
      "source": [
        "print(nama)\n",
        "print(hobi)\n",
        "type(nama)"
      ],
      "execution_count": 4,
      "outputs": [
        {
          "output_type": "stream",
          "text": [
            "Tyas\n",
            "Nonton\n"
          ],
          "name": "stdout"
        },
        {
          "output_type": "execute_result",
          "data": {
            "text/plain": [
              "str"
            ]
          },
          "metadata": {
            "tags": []
          },
          "execution_count": 4
        }
      ]
    },
    {
      "cell_type": "code",
      "metadata": {
        "colab": {
          "base_uri": "https://localhost:8080/"
        },
        "id": "iIe-IGH9ecEk",
        "outputId": "a90b8389-d46a-424e-db35-c1c37564c2e9"
      },
      "source": [
        "# Membuat input bertipe data integer (int)\n",
        "angka1 = int(input())\n",
        "print(angka1)"
      ],
      "execution_count": null,
      "outputs": [
        {
          "output_type": "stream",
          "text": [
            "1\n",
            "1\n"
          ],
          "name": "stdout"
        }
      ]
    },
    {
      "cell_type": "code",
      "metadata": {
        "colab": {
          "base_uri": "https://localhost:8080/"
        },
        "id": "UKWV8tPHedhw",
        "outputId": "81f1598f-9dff-4d18-afbd-0d99a02ca228"
      },
      "source": [
        "# Membuat input beripe data float\n",
        "angka2 = float(input())\n",
        "print(angka2)"
      ],
      "execution_count": null,
      "outputs": [
        {
          "output_type": "stream",
          "text": [
            "2\n",
            "2.0\n"
          ],
          "name": "stdout"
        }
      ]
    },
    {
      "cell_type": "markdown",
      "metadata": {
        "id": "frV9dqp5jlBD"
      },
      "source": [
        "Saatnya kamu mencoba!!!"
      ]
    },
    {
      "cell_type": "code",
      "metadata": {
        "id": "tKNsgrWujn49",
        "colab": {
          "base_uri": "https://localhost:8080/"
        },
        "outputId": "f95b306a-5138-4fbf-e6e2-2ae5d6906b48"
      },
      "source": [
        "nama = input(\"Nama : \")\n",
        "hobi = input(\"Hobi : \")\n",
        "ttl = input (\"TTL : \")\n",
        "print(\"Namanya adalah\",nama)\n",
        "print(hobi)\n",
        "a = int(input(\"1+1 : \"))\n",
        "print(a)\n",
        "b = float(input(\"2+2 : \"))\n",
        "print(b)\n",
        "type(hobi)"
      ],
      "execution_count": 5,
      "outputs": [
        {
          "output_type": "stream",
          "text": [
            "Nama : Tyas\n",
            "Hobi : Nonton\n",
            "TTL : Tangerang\n",
            "Namanya adalah Tyas\n",
            "Nonton\n",
            "1+1 : 2\n",
            "2\n",
            "2+2 : 4\n",
            "4.0\n"
          ],
          "name": "stdout"
        },
        {
          "output_type": "execute_result",
          "data": {
            "text/plain": [
              "str"
            ]
          },
          "metadata": {
            "tags": []
          },
          "execution_count": 5
        }
      ]
    },
    {
      "cell_type": "markdown",
      "metadata": {
        "id": "hN1PZcobegAQ"
      },
      "source": [
        "**Menampilkan Output cara pertama**\n"
      ]
    },
    {
      "cell_type": "code",
      "metadata": {
        "colab": {
          "base_uri": "https://localhost:8080/"
        },
        "id": "YJKK2Fmmej8J",
        "outputId": "81cf2b97-7d56-408e-807d-16019e5d83ba"
      },
      "source": [
        "print(\"Nama saya\"+\" \"+ nama + \" \" + \"yang berumur\"+ \" \" + umur + \" \" + \"dan bertempat tinggal di\"+ \" \" + alamat)"
      ],
      "execution_count": null,
      "outputs": [
        {
          "output_type": "stream",
          "text": [
            "Nama saya Pejuang Data yang berumur 17 dan bertempat tinggal di Yogyakarta\n"
          ],
          "name": "stdout"
        }
      ]
    },
    {
      "cell_type": "markdown",
      "metadata": {
        "id": "tzkB1SQ1jqPM"
      },
      "source": [
        "Saatnya kamu mencoba!!!"
      ]
    },
    {
      "cell_type": "code",
      "metadata": {
        "colab": {
          "base_uri": "https://localhost:8080/"
        },
        "id": "p5Z-jMEijtlV",
        "outputId": "9b0b4ce6-47e0-4238-bf99-226944124efb"
      },
      "source": [
        "print('Nama saya'+\" \"+ nama + \", \" + \"hobi saya \" + hobi + \", \" + \"dan lahir di \" + ttl)"
      ],
      "execution_count": 7,
      "outputs": [
        {
          "output_type": "stream",
          "text": [
            "Nama saya Tyas, hobi saya Nonton, dan lahir di Tangerang\n"
          ],
          "name": "stdout"
        }
      ]
    },
    {
      "cell_type": "markdown",
      "metadata": {
        "id": "XSSsrFkEemXP"
      },
      "source": [
        "**Menampilkan Output cara kedua**\n",
        "\n",
        "Menggunakan fungsi format()"
      ]
    },
    {
      "cell_type": "code",
      "metadata": {
        "colab": {
          "base_uri": "https://localhost:8080/",
          "height": 35
        },
        "id": "mavFHYasj3RL",
        "outputId": "92ae3b10-f141-47c1-f5be-a76bd8392b1f"
      },
      "source": [
        "txt1 = \"Nama saya {nama}, Saya berumur {umur}\".format(nama = \"Dahlan\", umur = 18)\n",
        "txt1"
      ],
      "execution_count": null,
      "outputs": [
        {
          "output_type": "execute_result",
          "data": {
            "application/vnd.google.colaboratory.intrinsic+json": {
              "type": "string"
            },
            "text/plain": [
              "'Nama saya Dahlan, Saya berumur 18'"
            ]
          },
          "metadata": {
            "tags": []
          },
          "execution_count": 15
        }
      ]
    },
    {
      "cell_type": "code",
      "metadata": {
        "colab": {
          "base_uri": "https://localhost:8080/",
          "height": 35
        },
        "id": "MgiB5WBOkxzY",
        "outputId": "81a56d4f-6bca-498b-8043-e01fe2375478"
      },
      "source": [
        "txt2 = \"Nama saya {0}, Saya berumur {1}\".format(\"Dahlan\",18)\n",
        "txt2"
      ],
      "execution_count": null,
      "outputs": [
        {
          "output_type": "execute_result",
          "data": {
            "application/vnd.google.colaboratory.intrinsic+json": {
              "type": "string"
            },
            "text/plain": [
              "'Nama saya Dahlan, Saya berumur 18'"
            ]
          },
          "metadata": {
            "tags": []
          },
          "execution_count": 16
        }
      ]
    },
    {
      "cell_type": "code",
      "metadata": {
        "colab": {
          "base_uri": "https://localhost:8080/",
          "height": 35
        },
        "id": "fKGVHjq7kyo_",
        "outputId": "cff28403-9862-479d-8005-a9fbd965d070"
      },
      "source": [
        "txt3 = \"Nama saya {}, Saya berumur {}\".format(\"Dahlan\",18)\n",
        "txt3"
      ],
      "execution_count": null,
      "outputs": [
        {
          "output_type": "execute_result",
          "data": {
            "application/vnd.google.colaboratory.intrinsic+json": {
              "type": "string"
            },
            "text/plain": [
              "'Nama saya Dahlan, Saya berumur 18'"
            ]
          },
          "metadata": {
            "tags": []
          },
          "execution_count": 17
        }
      ]
    },
    {
      "cell_type": "markdown",
      "metadata": {
        "id": "Ho1x_r1Sk-KX"
      },
      "source": [
        "Saatnya kamu mencoba!!!"
      ]
    },
    {
      "cell_type": "code",
      "metadata": {
        "id": "T66KZDWyk_AN",
        "colab": {
          "base_uri": "https://localhost:8080/",
          "height": 35
        },
        "outputId": "7ebcd6b9-823a-42f3-c8a1-572463aea5df"
      },
      "source": [
        "txt1 = \"Nama saya {nama}, hobi saya {hobi}\".format(nama = \"Tyas\", hobi = \"nonton\")\n",
        "txt1"
      ],
      "execution_count": 15,
      "outputs": [
        {
          "output_type": "execute_result",
          "data": {
            "application/vnd.google.colaboratory.intrinsic+json": {
              "type": "string"
            },
            "text/plain": [
              "'Nama saya Tyas, hobi saya nonton'"
            ]
          },
          "metadata": {
            "tags": []
          },
          "execution_count": 15
        }
      ]
    },
    {
      "cell_type": "code",
      "metadata": {
        "colab": {
          "base_uri": "https://localhost:8080/",
          "height": 35
        },
        "id": "24TRAuvkXZN7",
        "outputId": "9bacc4d7-6940-488d-ebc8-9bf0f8679d92"
      },
      "source": [
        "txt2 = \"Nama saya {0}, hobi saya {1}\".format(\"Tyas\",\"nonton\")\n",
        "txt2"
      ],
      "execution_count": 17,
      "outputs": [
        {
          "output_type": "execute_result",
          "data": {
            "application/vnd.google.colaboratory.intrinsic+json": {
              "type": "string"
            },
            "text/plain": [
              "'Nama saya Tyas, hobi saya nonton'"
            ]
          },
          "metadata": {
            "tags": []
          },
          "execution_count": 17
        }
      ]
    },
    {
      "cell_type": "code",
      "metadata": {
        "colab": {
          "base_uri": "https://localhost:8080/",
          "height": 35
        },
        "id": "uypJsZQUX2qE",
        "outputId": "799c3048-566b-4afb-c330-d82faf0c1048"
      },
      "source": [
        "txt3 = \"Nama saya {}, hobi saya {}\".format(\"Tyas\",\"nonton\")\n",
        "txt3"
      ],
      "execution_count": 18,
      "outputs": [
        {
          "output_type": "execute_result",
          "data": {
            "application/vnd.google.colaboratory.intrinsic+json": {
              "type": "string"
            },
            "text/plain": [
              "'Nama saya Tyas, hobi saya nonton'"
            ]
          },
          "metadata": {
            "tags": []
          },
          "execution_count": 18
        }
      ]
    },
    {
      "cell_type": "markdown",
      "metadata": {
        "id": "uYCMhDyWeqTZ"
      },
      "source": [
        "**Menampilkan Output cara ketiga**\n",
        "\n",
        "Menggunakan simbol %\n",
        "\n",
        "* %c : mencetak karakter\n",
        "\n",
        "* %s : mencetak data menjadi string\n",
        "\n",
        "* %i, %d : mencetak angka desimal bertanda\n",
        "* %u : mencetak angka desimal tak bertanda\n",
        "* %x, %X : mencetak angka heksa dengan huruf kecil %x atau besar %X\n",
        "* %f : mencetak angka real berkoma\n",
        "* %e, %E : mencetak tanda eksponensial dengan huruf kecil %e atau besar %E\n",
        "* %g, %G : fungsi hampir sama dengan %f dan %e hanya saja pencetakan angak di belakang koma lebih pendek"
      ]
    },
    {
      "cell_type": "code",
      "metadata": {
        "colab": {
          "base_uri": "https://localhost:8080/"
        },
        "id": "0bz0OcMzetR-",
        "outputId": "bdeb0773-f955-437c-e624-a2419bb983d5"
      },
      "source": [
        "print(\"Nama saya %s yang berumur %s dan bertempat tinggal di %s\" %(nama, umur, alamat))"
      ],
      "execution_count": null,
      "outputs": [
        {
          "output_type": "stream",
          "text": [
            "Nama saya Pejuang Data yang berumur 17 dan bertempat tinggal di Yogyakarta\n"
          ],
          "name": "stdout"
        }
      ]
    },
    {
      "cell_type": "markdown",
      "metadata": {
        "id": "W8oWmIBplFdL"
      },
      "source": [
        "Saatnya kamu mencoba!!!"
      ]
    },
    {
      "cell_type": "code",
      "metadata": {
        "id": "zDzKyrpUlGXD",
        "colab": {
          "base_uri": "https://localhost:8080/"
        },
        "outputId": "8d3e001c-b736-43a2-bd3f-7de69ab221f2"
      },
      "source": [
        "print(\"Nama saya %s, hobi saya %s, dan saya lahir di %s\" %(nama, hobi, ttl))"
      ],
      "execution_count": 20,
      "outputs": [
        {
          "output_type": "stream",
          "text": [
            "Nama saya Tyas, hobi saya Nonton, dan saya lahir di Tangerang\n"
          ],
          "name": "stdout"
        }
      ]
    },
    {
      "cell_type": "markdown",
      "metadata": {
        "id": "Lus7pe_3tD6n"
      },
      "source": [
        "## **Variabel, Tipe Data, Dan Konversinya**"
      ]
    },
    {
      "cell_type": "markdown",
      "metadata": {
        "id": "KJx8rxdzlKgR"
      },
      "source": [
        "Selanjutnya kita akan mengenal variabel dan tipe data pada python. Ini merupakan dasar yang harus dipahami di awal sebelum melanjutkan ke materi berikutnya. Pertama kita akan memahami bagaimana sebuah variabel dituliskan dalam python."
      ]
    },
    {
      "cell_type": "markdown",
      "metadata": {
        "id": "7Mzb7KbGvX4O"
      },
      "source": [
        "### Variabel"
      ]
    },
    {
      "cell_type": "markdown",
      "metadata": {
        "id": "57FeEUMgvaIj"
      },
      "source": [
        "*   Variabel merupakan tempat penyimpanan data atau nilai\n",
        "*   Sebuah variabel dalam python bisa diisi dengan berbagai tipe data\n",
        "*   Nama sebuah variabel tidak bisa diawali dengan angka/numerik\n",
        "*   Nama sebuah variabel selain keyword dari bahasa python\n",
        "*   Format variabel : Nama_variabel = data/nilai"
      ]
    },
    {
      "cell_type": "markdown",
      "metadata": {
        "id": "dO2t9vXyvv-A"
      },
      "source": [
        "**Membuat sebuah variabel dengan berbagai tipe data Python**"
      ]
    },
    {
      "cell_type": "code",
      "metadata": {
        "id": "VadqbpNStZvE"
      },
      "source": [
        "var1 = 'Assalamualaikum Dunia!' #String\n",
        "var2 = 1234567890 # int\n",
        "var3 = 0.123456789 # float\n",
        "var4 = False #bool\n",
        "var5 = 1j+1 #complex"
      ],
      "execution_count": null,
      "outputs": []
    },
    {
      "cell_type": "markdown",
      "metadata": {
        "id": "rtPG7Nwrv00R"
      },
      "source": [
        "Buat variabelmu sendiri di bawah ini ya!"
      ]
    },
    {
      "cell_type": "code",
      "metadata": {
        "colab": {
          "base_uri": "https://localhost:8080/"
        },
        "id": "xTlpIfrav6B1",
        "outputId": "1cd2ca19-b167-4699-8039-d541dd818e97"
      },
      "source": [
        "a = 'Hello World'\n",
        "b = 1500\n",
        "c = 99.123\n",
        "d = True\n",
        "e = 4j\n",
        "print(a, b, c, d, e)"
      ],
      "execution_count": 22,
      "outputs": [
        {
          "output_type": "stream",
          "text": [
            "Hello World 1500 99.123 True 4j\n"
          ],
          "name": "stdout"
        }
      ]
    },
    {
      "cell_type": "markdown",
      "metadata": {
        "id": "gAC3CAFawHJ1"
      },
      "source": [
        "**Memanggil variabel dan menampilkan**"
      ]
    },
    {
      "cell_type": "markdown",
      "metadata": {
        "id": "996pBnxgwNf0"
      },
      "source": [
        "Kamu dapat memanggil variabel hanya dengan menuliskan variabel yang sudah kamu buat di atas dan menjalankan cellnya"
      ]
    },
    {
      "cell_type": "code",
      "metadata": {
        "colab": {
          "base_uri": "https://localhost:8080/",
          "height": 35
        },
        "id": "g6_bbvvZwVhY",
        "outputId": "72654636-f1e1-46bc-86c9-85713746ffc8"
      },
      "source": [
        "var1\n"
      ],
      "execution_count": null,
      "outputs": [
        {
          "output_type": "execute_result",
          "data": {
            "application/vnd.google.colaboratory.intrinsic+json": {
              "type": "string"
            },
            "text/plain": [
              "'Assalamualaikum Dunia!'"
            ]
          },
          "metadata": {
            "tags": []
          },
          "execution_count": 21
        }
      ]
    },
    {
      "cell_type": "markdown",
      "metadata": {
        "id": "4eUl4LHlwZr3"
      },
      "source": [
        "Saatnya kamu mencoba!!!"
      ]
    },
    {
      "cell_type": "code",
      "metadata": {
        "id": "o_0CkJeoR526",
        "colab": {
          "base_uri": "https://localhost:8080/",
          "height": 35
        },
        "outputId": "f54c3bb8-62bb-4d3e-fb4e-04d5721b7d8e"
      },
      "source": [
        "a\n"
      ],
      "execution_count": 23,
      "outputs": [
        {
          "output_type": "execute_result",
          "data": {
            "application/vnd.google.colaboratory.intrinsic+json": {
              "type": "string"
            },
            "text/plain": [
              "'Hello World'"
            ]
          },
          "metadata": {
            "tags": []
          },
          "execution_count": 23
        }
      ]
    },
    {
      "cell_type": "markdown",
      "metadata": {
        "id": "_fXoG5cvwliz"
      },
      "source": [
        "Selain itu, kamu juga bisa mencetak, atau menampilkan variabel yang sudah kamu buat dengan cara memasukkan syntak **print(*variable*)**. Contohnya sebagai berikut:"
      ]
    },
    {
      "cell_type": "code",
      "metadata": {
        "colab": {
          "base_uri": "https://localhost:8080/"
        },
        "id": "1QQDTfwgw1X4",
        "outputId": "80faf40d-3cd4-4929-d795-96ff5ff114fa"
      },
      "source": [
        "print(var1) #tipe data string\n",
        "print(var2) #tipe data integer\n",
        "print(var3) #tipe data float\n",
        "print(var4) #tipe data boolean\n",
        "print(var5) #tipe data Complex"
      ],
      "execution_count": null,
      "outputs": [
        {
          "output_type": "stream",
          "text": [
            "Assalamualaikum Dunia!\n",
            "1234567890\n",
            "0.123456789\n",
            "False\n",
            "(1+1j)\n"
          ],
          "name": "stdout"
        }
      ]
    },
    {
      "cell_type": "markdown",
      "metadata": {
        "id": "sx2xL6rBw4DI"
      },
      "source": [
        "Sekarang, tampilkan variabelmu sendiri:"
      ]
    },
    {
      "cell_type": "code",
      "metadata": {
        "id": "8JJMEObiw8UA",
        "colab": {
          "base_uri": "https://localhost:8080/"
        },
        "outputId": "3f93cff4-a373-47e0-b1ba-24a7b3b7c457"
      },
      "source": [
        "#Mencetak variabel punya kamuuch\n",
        "#String\n",
        "print(a)\n",
        "#Int\n",
        "print(b)\n",
        "#Float\n",
        "print(c)\n",
        "#Boolean\n",
        "print(d)\n",
        "#Complex\n",
        "print(e)"
      ],
      "execution_count": 24,
      "outputs": [
        {
          "output_type": "stream",
          "text": [
            "Hello World\n",
            "1500\n",
            "99.123\n",
            "True\n",
            "4j\n"
          ],
          "name": "stdout"
        }
      ]
    },
    {
      "cell_type": "markdown",
      "metadata": {
        "id": "2bbm3gzTxF7i"
      },
      "source": [
        "Note: Tanda Pagar (#) berfungsi sebagai komentar, tidak dijalankan sebagai perintah pemrograman"
      ]
    },
    {
      "cell_type": "markdown",
      "metadata": {
        "id": "2F-xcS4yxlHN"
      },
      "source": [
        "### Tipe Data"
      ]
    },
    {
      "cell_type": "markdown",
      "metadata": {
        "id": "SgWP52IMmFtz"
      },
      "source": [
        "Tipe data adalah kumpulan tipe yang dapat kamu temukan di semua data. Dengan memahami tipe data, kamu dapat menentukan nilai data yang dimiliki dari data tersebut."
      ]
    },
    {
      "cell_type": "markdown",
      "metadata": {
        "id": "llL51Zdwxwpb"
      },
      "source": [
        "\n",
        "**Mengenal Beberapa Tipe Data Pada Python:**\n",
        "1.   String\n",
        "2.   Number (Integer, Float, Complex, Boolean)\n"
      ]
    },
    {
      "cell_type": "markdown",
      "metadata": {
        "id": "eLHFbBYox2WK"
      },
      "source": [
        "**Melihat Tipe Data dari Suatu Variabel**"
      ]
    },
    {
      "cell_type": "markdown",
      "metadata": {
        "id": "kw7AVHzXx3u9"
      },
      "source": [
        "Kamu bisa melihat tipe variabel yang sudah kamu buat,apakah tipe data kamu adalah int, float, boolean, string, dll menggunakan fungsi **type(*variabel*)**, sebagai berikut:"
      ]
    },
    {
      "cell_type": "code",
      "metadata": {
        "colab": {
          "base_uri": "https://localhost:8080/"
        },
        "id": "0cliBOA8x00W",
        "outputId": "09fe618f-b2b0-4382-d254-1c02714667fa"
      },
      "source": [
        "type(var1)"
      ],
      "execution_count": null,
      "outputs": [
        {
          "output_type": "execute_result",
          "data": {
            "text/plain": [
              "str"
            ]
          },
          "metadata": {
            "tags": []
          },
          "execution_count": 24
        }
      ]
    },
    {
      "cell_type": "markdown",
      "metadata": {
        "id": "B6V8BwCbyVIg"
      },
      "source": [
        "Sekarang coba kamu cek tipe variabel yang udah kamu buat!!!"
      ]
    },
    {
      "cell_type": "code",
      "metadata": {
        "id": "-T8yJE3TyZAn",
        "colab": {
          "base_uri": "https://localhost:8080/"
        },
        "outputId": "982087e9-19e1-4876-81b5-1afe041d7283"
      },
      "source": [
        "#Mengecek tipe variabel\n",
        "#String\n",
        "type(a)\n",
        "#Int\n",
        "type(b)\n",
        "#Float\n",
        "type(c)\n",
        "#Boolean\n",
        "type(d)\n",
        "#Complex\n",
        "type(e)"
      ],
      "execution_count": 32,
      "outputs": [
        {
          "output_type": "execute_result",
          "data": {
            "text/plain": [
              "complex"
            ]
          },
          "metadata": {
            "tags": []
          },
          "execution_count": 32
        }
      ]
    },
    {
      "cell_type": "markdown",
      "metadata": {
        "id": "spcVxw41ygO3"
      },
      "source": [
        "Kok yang tampil cuma yang terakhir!!!, ya emang begitu, python hanya akan ngejalanin line terakhir untuk ditampilin, biar tampil semua maka kita print aja seperti di bawah ini:"
      ]
    },
    {
      "cell_type": "code",
      "metadata": {
        "colab": {
          "base_uri": "https://localhost:8080/"
        },
        "id": "HS7qXuc2zAw9",
        "outputId": "bc5658f1-eb20-4e55-c013-09cb47a3ba03"
      },
      "source": [
        "print(var1,'Tipe data var1:', type(var1))\n",
        "print(var2,'Tipe data var2:', type(var2))\n",
        "print(var3,'Tipe data var3:', type(var3))\n",
        "print(var4,'Tipe data var4:', type(var4))\n",
        "print(var5,'Tipe data var5:', type(var5))"
      ],
      "execution_count": null,
      "outputs": [
        {
          "output_type": "stream",
          "text": [
            "Assalamualaikum Dunia! Tipe data var1: <class 'str'>\n",
            "1234567890 Tipe data var2: <class 'int'>\n",
            "0.123456789 Tipe data var3: <class 'float'>\n",
            "False Tipe data var4: <class 'bool'>\n",
            "(1+1j) Tipe data var5: <class 'complex'>\n"
          ],
          "name": "stdout"
        }
      ]
    },
    {
      "cell_type": "markdown",
      "metadata": {
        "id": "2HFv--oSzIGb"
      },
      "source": [
        "### Konversi Tipe Data"
      ]
    },
    {
      "cell_type": "markdown",
      "metadata": {
        "id": "paR8fwYXzK0y"
      },
      "source": [
        "Capek gag sih, bikin data baru mulu untuk sebuah tipe data yang berbeda. Kalo capek ya udah, rehat dulu. Nah ada cara lain sih, yaitu dengan mengubah tipe data yang udah kita miliki menjadi tipe data yang kita inginkan. Kadang gag harus ganti kan, cukup komit untuk merubah hal-hal yang sudah ada sesuai keinginan kita. OK Lanjuut.\n",
        "\n",
        "Intinya mah misal kita punya variabel tipenya int tapi kita butuh variabel itu jadi float ya kita bisa konversi, gimana caranya?\n",
        "\n",
        "Pake fungsi donk, fungsinya macem-macem, tapi intinya adalah fungsinya bernama tipe data baru yang ingin kita buat kemudian inputnya adalah tipe data yang mau kita ubah. Begono.\n",
        "\n"
      ]
    },
    {
      "cell_type": "markdown",
      "metadata": {
        "id": "V3WgQpDQfVdP"
      },
      "source": [
        "Bingung?\n",
        "Ini lho macam-macam fungsinya:\n",
        "\n",
        "Fungsi untuk mengubah/konversi tipe data:\n",
        "\n",
        "a. int() : untuk mengubah menjadi integer\n",
        "\n",
        "b. float() : untuk mengubah menjadi float\n",
        "\n",
        "c. str() : untuk mengubah menjadi string\n",
        "\n",
        "d. bool() : untuk mengubah menjadi boolean\n",
        "\n",
        "e. long() : untuk mengubah menjadi integer panjang\n",
        "\n",
        "f. chr() : untuk mengubah menjadi karakter\n",
        "\n",
        "g. bin() : untuk mengubah menjadi bilangan biner\n",
        "\n",
        "h. hex() : untuk mengubah menjadi bilangan Heksadesimal\n",
        "\n",
        "i. oct() : untuk mengubah menjadi bilangan okta\n",
        "\n",
        "Contohnya ini ya:"
      ]
    },
    {
      "cell_type": "code",
      "metadata": {
        "colab": {
          "base_uri": "https://localhost:8080/"
        },
        "id": "plkvjAkY0HoX",
        "outputId": "689fec8b-e801-43a7-9d08-6d2b690668c1"
      },
      "source": [
        "number = 10\n",
        "print(\"data =\", number, \", type =\", type(number))"
      ],
      "execution_count": null,
      "outputs": [
        {
          "output_type": "stream",
          "text": [
            "data = 10 , type = <class 'int'>\n"
          ],
          "name": "stdout"
        }
      ]
    },
    {
      "cell_type": "code",
      "metadata": {
        "colab": {
          "base_uri": "https://localhost:8080/"
        },
        "id": "1TEC5edF0Mi_",
        "outputId": "5146e5fd-ab17-4c98-e81e-d3c516b47424"
      },
      "source": [
        "# Mengkonversi tipe data integer\n",
        "kon_float = float(number)\n",
        "kon_str = str(number)\n",
        "kon_bool = bool(number) #False jika integer = 0, lainnya True (perhatikan hasilnya)\n",
        "\n",
        "# Melihat data yang telah dikonversi\n",
        "print(\"data = \", kon_float , \",type =\", type(kon_float))\n",
        "print(\"data = \", kon_str , \",type =\", type(kon_str))\n",
        "print(\"data = \", kon_bool , \",type =\", type(kon_bool))"
      ],
      "execution_count": null,
      "outputs": [
        {
          "output_type": "stream",
          "text": [
            "data =  10.0 ,type = <class 'float'>\n",
            "data =  10 ,type = <class 'str'>\n",
            "data =  True ,type = <class 'bool'>\n"
          ],
          "name": "stdout"
        }
      ]
    },
    {
      "cell_type": "markdown",
      "metadata": {
        "id": "QLayxkuqnD4Q"
      },
      "source": [
        "Saatnya kamu mencoba!!!"
      ]
    },
    {
      "cell_type": "code",
      "metadata": {
        "id": "usm18JyhBc_l",
        "colab": {
          "base_uri": "https://localhost:8080/"
        },
        "outputId": "205f8a18-7049-47c3-d953-ba2ae5cd6e9b"
      },
      "source": [
        "a = 10.0\n",
        "print(\"data =\", a, \", type =\", type(a))\n",
        "b = int(a)\n",
        "c = str(a)\n",
        "d = bool(a)\n",
        "print(\"data =\", b, \", type =\", type(b))\n",
        "print(\"data =\", c, \", type =\", type(c))\n",
        "print(\"data =\", d, \", type =\", type(d))"
      ],
      "execution_count": 33,
      "outputs": [
        {
          "output_type": "stream",
          "text": [
            "data = 10.0 , type = <class 'float'>\n",
            "data = 10 , type = <class 'int'>\n",
            "data = 10.0 , type = <class 'str'>\n",
            "data = True , type = <class 'bool'>\n"
          ],
          "name": "stdout"
        }
      ]
    },
    {
      "cell_type": "markdown",
      "metadata": {
        "id": "BTjZS9m1thuw"
      },
      "source": [
        "## **Berbagai Struktur Data di Python**"
      ]
    },
    {
      "cell_type": "markdown",
      "metadata": {
        "id": "TBsQY66PDWrs"
      },
      "source": [
        "### **List**"
      ]
    },
    {
      "cell_type": "markdown",
      "metadata": {
        "id": "-u6JOj_IDaKk"
      },
      "source": [
        "List adalah jenis kumpulan data terurut (ordered sequence), dan merupakan salah satu variabel yang sering digunakan pada Python. Serupa, namun tak sama dengan array pada bahasa pemrograman lainnya. Bedanya, elemen List pada Python tidak harus memiliki tipe data yang sama. Mendeklarasikan List cukup mudah dengan kurung siku dan elemen yang dipisahkan dengan koma. "
      ]
    },
    {
      "cell_type": "markdown",
      "metadata": {
        "id": "9HjWw49REaRC"
      },
      "source": [
        "*Setiap data di dalamnya dapat diakses dengan indeks yang dimulai dari 0.*"
      ]
    },
    {
      "cell_type": "code",
      "metadata": {
        "colab": {
          "base_uri": "https://localhost:8080/"
        },
        "id": "dP3www4UEiMu",
        "outputId": "d96a2b87-cda1-4acb-8627-000c7026b566"
      },
      "source": [
        "a = [1, 2.2, 'python']\n",
        "a"
      ],
      "execution_count": null,
      "outputs": [
        {
          "output_type": "execute_result",
          "data": {
            "text/plain": [
              "[1, 2.2, 'python']"
            ]
          },
          "metadata": {
            "tags": []
          },
          "execution_count": 29
        }
      ]
    },
    {
      "cell_type": "markdown",
      "metadata": {
        "id": "vhI0ElKOnKxC"
      },
      "source": [
        "Bikin versimu sendiri donk, jangan baca doank! heheheh"
      ]
    },
    {
      "cell_type": "code",
      "metadata": {
        "id": "3jQM3A-vFBHE",
        "colab": {
          "base_uri": "https://localhost:8080/"
        },
        "outputId": "db9b3906-0784-400c-e1db-b164bf5d19c3"
      },
      "source": [
        "a = [\"satu\", \"dua\", \"tiga\", \"satu\"]\n",
        "a"
      ],
      "execution_count": 34,
      "outputs": [
        {
          "output_type": "execute_result",
          "data": {
            "text/plain": [
              "['satu', 'dua', 'tiga', 'satu']"
            ]
          },
          "metadata": {
            "tags": []
          },
          "execution_count": 34
        }
      ]
    },
    {
      "cell_type": "markdown",
      "metadata": {
        "id": "xB5by4KJEm-3"
      },
      "source": [
        "Python mengenal slicing operator [ ] yang dapat melakukan ekstraksi sebuah item atau beberapa item yang berada dalam range tertentu pada tipe data urutan (sequences), misalnya list, string dan tuple. Beberapa tipe urutan juga mendukung \"extended slicing\" dengan parameter ketiga berupa \"step\"."
      ]
    },
    {
      "cell_type": "markdown",
      "metadata": {
        "id": "yQr2VKIHEp91"
      },
      "source": [
        "* x[0] artinya mengambil elemen paling awal, dengan  index 0 dari List x.\n",
        "\n",
        "* x[5] artinya mengambil elemen dengan index 5 dari List x.\n",
        "\n",
        "* x[-1] artinya mengambil elemen dengan index paling belakang ke-1 dari List x.\n",
        "\n",
        "* x[3:5] artinya membuat list dari anggota elemen List x dengan index 3 hingga sebelum index 5 (tidak termasuk elemen dengan index 5, dalam hal ini hanya index 3-4).\n",
        "\n",
        "* x[:5] artinya membuat list dari anggota elemen List x paling awal hingga sebelum index 5 (tidak termasuk elemen dengan index 5, dalam hal ini hanya index 0-4).\n",
        "\n",
        "* x[-3:] artinya membuat list dari anggota elemen List x mulai index ke-3 dari belakang hingga paling belakang.\n",
        "\n",
        "* x[1:7:2] artinya membuat list dari anggota elemen List x dengan index 1 hingga sebelum index 7, dengan \"step\" 2 (dalam hal ini hanya index 1, 3, 5)."
      ]
    },
    {
      "cell_type": "code",
      "metadata": {
        "colab": {
          "base_uri": "https://localhost:8080/"
        },
        "id": "VUCcs22SE9YD",
        "outputId": "c4ab6f0f-4ffc-47a8-e0ce-a0973b9c7aeb"
      },
      "source": [
        "x = [5,10,15,20,25,30,35,40]\n",
        "print(x[5])\n",
        "print(x[-1])\n",
        "print(x[3:5])\n",
        "print(x[:5])\n",
        "print(x[-3:])\n",
        "print(x[1:7:2])"
      ],
      "execution_count": null,
      "outputs": [
        {
          "output_type": "stream",
          "text": [
            "30\n",
            "40\n",
            "[20, 25]\n",
            "[5, 10, 15, 20, 25]\n",
            "[30, 35, 40]\n",
            "[10, 20, 30]\n"
          ],
          "name": "stdout"
        }
      ]
    },
    {
      "cell_type": "markdown",
      "metadata": {
        "id": "67egXHvonS_-"
      },
      "source": [
        "Cobain ya!"
      ]
    },
    {
      "cell_type": "code",
      "metadata": {
        "id": "novBhwPUFKVp",
        "colab": {
          "base_uri": "https://localhost:8080/"
        },
        "outputId": "d5ec8541-eae0-4a50-e3aa-42fd86ce86b8"
      },
      "source": [
        "x = [\"a\",\"b\",\"c\",\"d\",\"e\",\"f\",\"g\",\"h\",\"i\",\"j\"]\n",
        "print(x[6])\n",
        "print(x[-2])\n",
        "print(x[4:6])\n",
        "print(x[:6])\n",
        "print(x[-4:])\n",
        "print(x[2:8:3])"
      ],
      "execution_count": 35,
      "outputs": [
        {
          "output_type": "stream",
          "text": [
            "g\n",
            "i\n",
            "['e', 'f']\n",
            "['a', 'b', 'c', 'd', 'e', 'f']\n",
            "['g', 'h', 'i', 'j']\n",
            "['c', 'f']\n"
          ],
          "name": "stdout"
        }
      ]
    },
    {
      "cell_type": "markdown",
      "metadata": {
        "id": "QdPay12ZE8qW"
      },
      "source": [
        "Elemen pada list dapat diubah atau ditambahkan. Misalnya untuk melakukan perubahan kemudian penambahan:"
      ]
    },
    {
      "cell_type": "code",
      "metadata": {
        "colab": {
          "base_uri": "https://localhost:8080/"
        },
        "id": "DQO34qKLFSVm",
        "outputId": "77f0cb24-5f32-48bf-9d66-cf7c4440193c"
      },
      "source": [
        "#Mengganti elemen\n",
        "x = [1,2,3]\n",
        "x[2]=4\n",
        "print (x)"
      ],
      "execution_count": null,
      "outputs": [
        {
          "output_type": "stream",
          "text": [
            "[1, 2, 4]\n"
          ],
          "name": "stdout"
        }
      ]
    },
    {
      "cell_type": "code",
      "metadata": {
        "colab": {
          "base_uri": "https://localhost:8080/"
        },
        "id": "aB6N_xlXFY5-",
        "outputId": "3e2905d6-1e28-49fb-df53-92f4ed8b41bc"
      },
      "source": [
        "#Menambah elemen\n",
        "x = [1,2,3]\n",
        "x[2]=4\n",
        "x.append(5) #append artinya menambah\n",
        "print(x)"
      ],
      "execution_count": null,
      "outputs": [
        {
          "output_type": "stream",
          "text": [
            "[1, 2, 4, 5]\n"
          ],
          "name": "stdout"
        }
      ]
    },
    {
      "cell_type": "markdown",
      "metadata": {
        "id": "1FwZzKnb9M-K"
      },
      "source": [
        "Saatnya kamu mencoba!\n",
        "\n",
        "\n",
        "\n",
        "\n"
      ]
    },
    {
      "cell_type": "code",
      "metadata": {
        "id": "v_cJVZhOFqQP",
        "colab": {
          "base_uri": "https://localhost:8080/"
        },
        "outputId": "9214c61d-9618-4af7-8f0e-a8ba5f21ba71"
      },
      "source": [
        "x = [5,6,7]\n",
        "x[0]=8\n",
        "print(x)\n",
        "x.append(9)\n",
        "print(x)"
      ],
      "execution_count": 38,
      "outputs": [
        {
          "output_type": "stream",
          "text": [
            "[8, 6, 7]\n",
            "[8, 6, 7, 9]\n"
          ],
          "name": "stdout"
        }
      ]
    },
    {
      "cell_type": "markdown",
      "metadata": {
        "id": "Qrrd8dGqFRgS"
      },
      "source": [
        "Untuk menghapus item pada list, gunakan fungsi del. *Ingat bahwa Indeks Python dimulai dari 0*:"
      ]
    },
    {
      "cell_type": "code",
      "metadata": {
        "colab": {
          "base_uri": "https://localhost:8080/"
        },
        "id": "BNn8vPf0FkUH",
        "outputId": "7b2917b8-fdf2-4213-ba90-de907fcc333a"
      },
      "source": [
        "binatang = ['kucing', 'rusa', 'badak', 'gajah']\n",
        "del binatang[2]\n",
        "print(binatang)"
      ],
      "execution_count": null,
      "outputs": [
        {
          "output_type": "stream",
          "text": [
            "['kucing', 'rusa', 'gajah']\n"
          ],
          "name": "stdout"
        }
      ]
    },
    {
      "cell_type": "markdown",
      "metadata": {
        "id": "V9ZGWkmDnivN"
      },
      "source": [
        "Do it by yourself"
      ]
    },
    {
      "cell_type": "code",
      "metadata": {
        "id": "BWMmSjyzFtrX",
        "colab": {
          "base_uri": "https://localhost:8080/"
        },
        "outputId": "ebdd74fb-d77b-4640-a5ca-165787a722b2"
      },
      "source": [
        "a = [1,2,3,4]\n",
        "del a[1]\n",
        "print(a)"
      ],
      "execution_count": 39,
      "outputs": [
        {
          "output_type": "stream",
          "text": [
            "[1, 3, 4]\n"
          ],
          "name": "stdout"
        }
      ]
    },
    {
      "cell_type": "markdown",
      "metadata": {
        "id": "-kbc__RHFyaP"
      },
      "source": [
        "Coba tambahkan kembali:"
      ]
    },
    {
      "cell_type": "code",
      "metadata": {
        "colab": {
          "base_uri": "https://localhost:8080/"
        },
        "id": "KFtb4NhTFw7D",
        "outputId": "739bc7e8-901a-42a1-f804-206d19e06c1f"
      },
      "source": [
        "del binatang [2]\n",
        "print(binatang)"
      ],
      "execution_count": null,
      "outputs": [
        {
          "output_type": "stream",
          "text": [
            "['kucing', 'rusa']\n"
          ],
          "name": "stdout"
        }
      ]
    },
    {
      "cell_type": "markdown",
      "metadata": {
        "id": "lCCqLRGAnnZM"
      },
      "source": [
        "Cobain yaa!"
      ]
    },
    {
      "cell_type": "code",
      "metadata": {
        "id": "5mlv09vRGJWX",
        "colab": {
          "base_uri": "https://localhost:8080/"
        },
        "outputId": "9da5e135-e162-4f48-f6c2-6c7013271b0a"
      },
      "source": [
        "del a[1]\n",
        "print(a)"
      ],
      "execution_count": 40,
      "outputs": [
        {
          "output_type": "stream",
          "text": [
            "[1, 4]\n"
          ],
          "name": "stdout"
        }
      ]
    },
    {
      "cell_type": "markdown",
      "metadata": {
        "id": "C9NM4R56F9_e"
      },
      "source": [
        "Slicing pada String"
      ]
    },
    {
      "cell_type": "markdown",
      "metadata": {
        "id": "dPZO0puQGAbG"
      },
      "source": [
        "Karena string mirip dengan list, maka slicing operator [ ]  juga dapat digunakan pada string untuk mengambil isinya atau bahkan substring. Sebuah string utuh bersifat mutable (bisa diubah), namun elemennya bersifat immutable (tidak bisa diubah)."
      ]
    },
    {
      "cell_type": "code",
      "metadata": {
        "colab": {
          "base_uri": "https://localhost:8080/"
        },
        "id": "DyvdYPs0GGU8",
        "outputId": "a7dbe483-6017-4990-acc3-f37f6d684566"
      },
      "source": [
        "s = \"Assalamualaikum Dunia!\"\n",
        "print(s[4]) \t\t#ambil karakter kelima dari string s\n",
        "print(s[6:11]) \t\t#ambil karakter ketujuh hingga sebelas dari string s\n",
        "s = \"Halo Dunia!\"\t#ubah isi string s menjadi \"Halo Dunia!\", seharusnya berhasil karena mutable\n",
        "print (s)"
      ],
      "execution_count": null,
      "outputs": [
        {
          "output_type": "stream",
          "text": [
            "l\n",
            "muala\n",
            "Halo Dunia!\n"
          ],
          "name": "stdout"
        }
      ]
    },
    {
      "cell_type": "code",
      "metadata": {
        "colab": {
          "base_uri": "https://localhost:8080/",
          "height": 164
        },
        "id": "1kjxRvOxGlDc",
        "outputId": "b9bfce22-4aeb-463c-eb4f-76792b1f9f55"
      },
      "source": [
        "s[5]=\"d\"        #ubah karakter keenam dari string s menjadi \"d\", seharusnya gagal karena immutable"
      ],
      "execution_count": null,
      "outputs": [
        {
          "output_type": "error",
          "ename": "TypeError",
          "evalue": "ignored",
          "traceback": [
            "\u001b[0;31m---------------------------------------------------------------------------\u001b[0m",
            "\u001b[0;31mTypeError\u001b[0m                                 Traceback (most recent call last)",
            "\u001b[0;32m<ipython-input-36-bf85af8166af>\u001b[0m in \u001b[0;36m<module>\u001b[0;34m()\u001b[0m\n\u001b[0;32m----> 1\u001b[0;31m \u001b[0ms\u001b[0m\u001b[0;34m[\u001b[0m\u001b[0;36m5\u001b[0m\u001b[0;34m]\u001b[0m\u001b[0;34m=\u001b[0m\u001b[0;34m\"d\"\u001b[0m        \u001b[0;31m#ubah karakter keenam dari string s menjadi \"d\", seharusnya gagal karena immutable\u001b[0m\u001b[0;34m\u001b[0m\u001b[0;34m\u001b[0m\u001b[0m\n\u001b[0m",
            "\u001b[0;31mTypeError\u001b[0m: 'str' object does not support item assignment"
          ]
        }
      ]
    },
    {
      "cell_type": "markdown",
      "metadata": {
        "id": "qtxJS1UUn4Bx"
      },
      "source": [
        "Cobain yaa!\n",
        "\n",
        "\n",
        "\n"
      ]
    },
    {
      "cell_type": "code",
      "metadata": {
        "id": "NsEGK9mYGMdI",
        "colab": {
          "base_uri": "https://localhost:8080/"
        },
        "outputId": "1743d7cb-4063-4cae-8a2d-b0855d306a45"
      },
      "source": [
        "x = \"Hello World\"\n",
        "print(x[5])\n",
        "print(x[6:10])\n",
        "x = \"Hello\"\n",
        "print(x)"
      ],
      "execution_count": 42,
      "outputs": [
        {
          "output_type": "stream",
          "text": [
            " \n",
            "Worl\n",
            "Hello\n"
          ],
          "name": "stdout"
        }
      ]
    },
    {
      "cell_type": "markdown",
      "metadata": {
        "id": "yfrh-45tGopf"
      },
      "source": [
        "### **Tuple**"
      ]
    },
    {
      "cell_type": "markdown",
      "metadata": {
        "id": "q5-ebJrYGsDd"
      },
      "source": [
        "Tuple adalah jenis dari list yang tidak dapat diubah elemennya. Umumnya tuple digunakan untuk data yang bersifat sekali tulis, dan dapat dieksekusi lebih cepat. Tuple didefinisikan dengan kurung dan elemen yang dipisahkan dengan koma."
      ]
    },
    {
      "cell_type": "code",
      "metadata": {
        "colab": {
          "base_uri": "https://localhost:8080/"
        },
        "id": "rIVXM9wAGugD",
        "outputId": "c211077a-9f67-46e7-c783-1e4318394ef3"
      },
      "source": [
        "t = (5,'program', 1+3j)\n",
        "t"
      ],
      "execution_count": null,
      "outputs": [
        {
          "output_type": "execute_result",
          "data": {
            "text/plain": [
              "(5, 'program', (1+3j))"
            ]
          },
          "metadata": {
            "tags": []
          },
          "execution_count": 37
        }
      ]
    },
    {
      "cell_type": "markdown",
      "metadata": {
        "id": "SthCvnFyGwo4"
      },
      "source": [
        "Seperti list, kita dapat melakukan slicing, namun pada tuple kita tidak dapat melakukan perubahan:"
      ]
    },
    {
      "cell_type": "code",
      "metadata": {
        "colab": {
          "base_uri": "https://localhost:8080/"
        },
        "id": "wdkkWKo8G2TZ",
        "outputId": "1decb4ac-75c2-415b-e806-f3b7373fe35f"
      },
      "source": [
        "t = (5,'program', 1+3j)\n",
        "print(t[1])\n",
        "print(t[0:3])\n"
      ],
      "execution_count": null,
      "outputs": [
        {
          "output_type": "stream",
          "text": [
            "program\n",
            "(5, 'program', (1+3j))\n"
          ],
          "name": "stdout"
        }
      ]
    },
    {
      "cell_type": "code",
      "metadata": {
        "colab": {
          "base_uri": "https://localhost:8080/",
          "height": 130
        },
        "id": "LQ_PPY-MG_ZA",
        "outputId": "65dd33d8-9dae-467a-c699-0cc302794b6b"
      },
      "source": [
        "print(t[0]=10) #Kok gagal, kenapa hayoooooo"
      ],
      "execution_count": null,
      "outputs": [
        {
          "output_type": "error",
          "ename": "SyntaxError",
          "evalue": "ignored",
          "traceback": [
            "\u001b[0;36m  File \u001b[0;32m\"<ipython-input-39-8ad875f67ba4>\"\u001b[0;36m, line \u001b[0;32m1\u001b[0m\n\u001b[0;31m    print(t[0]=10) #Kok gagal, kenapa hayoooooo\u001b[0m\n\u001b[0m         ^\u001b[0m\n\u001b[0;31mSyntaxError\u001b[0m\u001b[0;31m:\u001b[0m keyword can't be an expression\n"
          ]
        }
      ]
    },
    {
      "cell_type": "code",
      "metadata": {
        "colab": {
          "base_uri": "https://localhost:8080/"
        },
        "id": "nRPuYpMaHFXH",
        "outputId": "dd3e5639-33ad-40f8-8aa6-2446ac76b8da"
      },
      "source": [
        "a = (5, 6, 7,'aku')#bikin sendiri donk, kreatif dikit napa\n",
        "print (a)\n",
        "print(a[1])\n",
        "del[]"
      ],
      "execution_count": 44,
      "outputs": [
        {
          "output_type": "stream",
          "text": [
            "(5, 6, 7, 'aku')\n",
            "6\n"
          ],
          "name": "stdout"
        }
      ]
    },
    {
      "cell_type": "markdown",
      "metadata": {
        "id": "Ufp-xMDRHWor"
      },
      "source": [
        "### **Set**"
      ]
    },
    {
      "cell_type": "markdown",
      "metadata": {
        "id": "0K6YzzmLHZN1"
      },
      "source": [
        "Set adalah kumpulan item bersifat unik dan tanpa urutan (unordered collection). Didefinisikan dengan kurawal dan elemennya dipisahkan dengan koma. Pada Set kita dapat melakukan union dan intersection, sekaligus otomatis melakukan penghapusan data duplikat."
      ]
    },
    {
      "cell_type": "code",
      "metadata": {
        "colab": {
          "base_uri": "https://localhost:8080/"
        },
        "id": "adRdgxovHbKI",
        "outputId": "8806bc80-2506-49f8-fa69-cdada308d757"
      },
      "source": [
        "a = {1,2,2,3,3,3}\n",
        "print(a)"
      ],
      "execution_count": null,
      "outputs": [
        {
          "output_type": "stream",
          "text": [
            "{1, 2, 3}\n"
          ],
          "name": "stdout"
        }
      ]
    },
    {
      "cell_type": "markdown",
      "metadata": {
        "id": "CXmsYZIwHjpl"
      },
      "source": [
        "Karena set bersifat unordered, maka kita tidak bisa mengambil sebagian data / elemen datanya menggunakan proses slicing."
      ]
    },
    {
      "cell_type": "code",
      "metadata": {
        "colab": {
          "base_uri": "https://localhost:8080/",
          "height": 181
        },
        "id": "gonptHs5Hk3C",
        "outputId": "ee31c8cd-7b11-4a8a-a51f-2e9295cdcbfd"
      },
      "source": [
        "a = {1,2,3}\n",
        "print(a[1])"
      ],
      "execution_count": null,
      "outputs": [
        {
          "output_type": "error",
          "ename": "TypeError",
          "evalue": "ignored",
          "traceback": [
            "\u001b[0;31m---------------------------------------------------------------------------\u001b[0m",
            "\u001b[0;31mTypeError\u001b[0m                                 Traceback (most recent call last)",
            "\u001b[0;32m<ipython-input-42-3732f14f209e>\u001b[0m in \u001b[0;36m<module>\u001b[0;34m()\u001b[0m\n\u001b[1;32m      1\u001b[0m \u001b[0ma\u001b[0m \u001b[0;34m=\u001b[0m \u001b[0;34m{\u001b[0m\u001b[0;36m1\u001b[0m\u001b[0;34m,\u001b[0m\u001b[0;36m2\u001b[0m\u001b[0;34m,\u001b[0m\u001b[0;36m3\u001b[0m\u001b[0;34m}\u001b[0m\u001b[0;34m\u001b[0m\u001b[0;34m\u001b[0m\u001b[0m\n\u001b[0;32m----> 2\u001b[0;31m \u001b[0mprint\u001b[0m\u001b[0;34m(\u001b[0m\u001b[0ma\u001b[0m\u001b[0;34m[\u001b[0m\u001b[0;36m1\u001b[0m\u001b[0;34m]\u001b[0m\u001b[0;34m)\u001b[0m\u001b[0;34m\u001b[0m\u001b[0;34m\u001b[0m\u001b[0m\n\u001b[0m",
            "\u001b[0;31mTypeError\u001b[0m: 'set' object is not subscriptable"
          ]
        }
      ]
    },
    {
      "cell_type": "markdown",
      "metadata": {
        "id": "1FmHwEmNHpAj"
      },
      "source": [
        "### **Dictionary**"
      ]
    },
    {
      "cell_type": "markdown",
      "metadata": {
        "id": "FgjmIuQ0I90t"
      },
      "source": [
        "Dictionary pada Python adalah kumpulan pasangan kunci-nilai (pair of key-value) yang bersifat tidak berurutan. Dictionary dapat digunakan untuk menyimpan data kecil hingga besar. Untuk mengakses datanya, kita harus mengetahui kuncinya (key). Pada Python, dictionary didefinisikan dengan kurawal dan tambahan definisi berikut:"
      ]
    },
    {
      "cell_type": "markdown",
      "metadata": {
        "id": "HRXgW2D3I_-6"
      },
      "source": [
        "1. Setiap elemen pair key-value dipisahkan dengan koma (,).\n",
        "2. Key dan Value dipisahkan dengan titik dua (:).\n",
        "3. Key dan Value dapat berupa tipe variabel/obyek apapun."
      ]
    },
    {
      "cell_type": "code",
      "metadata": {
        "colab": {
          "base_uri": "https://localhost:8080/"
        },
        "id": "OPuAC6kKJFAQ",
        "outputId": "11d47bdd-21cf-482f-e461-620ba5cb9b29"
      },
      "source": [
        "d = {1:'value','key':2}\n",
        "print(type(d))"
      ],
      "execution_count": null,
      "outputs": [
        {
          "output_type": "stream",
          "text": [
            "<class 'dict'>\n"
          ],
          "name": "stdout"
        }
      ]
    },
    {
      "cell_type": "code",
      "metadata": {
        "colab": {
          "base_uri": "https://localhost:8080/"
        },
        "id": "fvOfhQMsJHi-",
        "outputId": "6a7c0be8-f323-4329-8e65-0943e9f3e387"
      },
      "source": [
        "d = {1:'value','key':2}\n",
        "print(type(d))\n",
        "print(\"d[1] = \", d[1]);\n",
        "print(\"d['key'] = \", d['key']);"
      ],
      "execution_count": null,
      "outputs": [
        {
          "output_type": "stream",
          "text": [
            "<class 'dict'>\n",
            "d[1] =  value\n",
            "d['key'] =  2\n"
          ],
          "name": "stdout"
        }
      ]
    },
    {
      "cell_type": "markdown",
      "metadata": {
        "id": "rmfBt8OxJNGI"
      },
      "source": [
        "Dictionary bukan termasuk dalam implementasi urutan (sequences), sehingga tidak bisa dipanggil dengan urutan indeks. Misalnya dalam contoh berikut dicoba dengan indeks 2, tetapi menghasilkan error (KeyError) karena tidak ada kunci (key) 2:"
      ]
    },
    {
      "cell_type": "code",
      "metadata": {
        "colab": {
          "base_uri": "https://localhost:8080/"
        },
        "id": "6fDwroEqJOK_",
        "outputId": "ab3f8f63-a20a-466d-f10c-b974b0557f67"
      },
      "source": [
        "d = {1:'value','key':2}\n",
        "print(type(d))\n",
        "print(\"d[1] = \", d[1]);\n",
        "print(\"d['key'] = \", d['key']);"
      ],
      "execution_count": null,
      "outputs": [
        {
          "output_type": "stream",
          "text": [
            "<class 'dict'>\n",
            "d[1] =  value\n",
            "d['key'] =  2\n"
          ],
          "name": "stdout"
        }
      ]
    },
    {
      "cell_type": "code",
      "metadata": {
        "colab": {
          "base_uri": "https://localhost:8080/",
          "height": 181
        },
        "id": "O5DEeN6PJScD",
        "outputId": "16aa4964-4d97-46d7-85ba-70cfde1b4af3"
      },
      "source": [
        "# Nyobain error\n",
        "print(\"d[2] = \", d[2]);"
      ],
      "execution_count": null,
      "outputs": [
        {
          "output_type": "error",
          "ename": "KeyError",
          "evalue": "ignored",
          "traceback": [
            "\u001b[0;31m---------------------------------------------------------------------------\u001b[0m",
            "\u001b[0;31mKeyError\u001b[0m                                  Traceback (most recent call last)",
            "\u001b[0;32m<ipython-input-46-e6e41397ea50>\u001b[0m in \u001b[0;36m<module>\u001b[0;34m()\u001b[0m\n\u001b[1;32m      1\u001b[0m \u001b[0;31m# Nyobain error\u001b[0m\u001b[0;34m\u001b[0m\u001b[0;34m\u001b[0m\u001b[0;34m\u001b[0m\u001b[0m\n\u001b[0;32m----> 2\u001b[0;31m \u001b[0mprint\u001b[0m\u001b[0;34m(\u001b[0m\u001b[0;34m\"d[2] = \"\u001b[0m\u001b[0;34m,\u001b[0m \u001b[0md\u001b[0m\u001b[0;34m[\u001b[0m\u001b[0;36m2\u001b[0m\u001b[0;34m]\u001b[0m\u001b[0;34m)\u001b[0m\u001b[0;34m;\u001b[0m\u001b[0;34m\u001b[0m\u001b[0;34m\u001b[0m\u001b[0m\n\u001b[0m",
            "\u001b[0;31mKeyError\u001b[0m: 2"
          ]
        }
      ]
    },
    {
      "cell_type": "code",
      "metadata": {
        "id": "Kcw4IRnIJbCA",
        "colab": {
          "base_uri": "https://localhost:8080/"
        },
        "outputId": "8805882a-121b-4e65-a583-5aafc7973d4b"
      },
      "source": [
        "#bikin versimu sendiri yaaa\n",
        "a = {\"satu\":1, \"dua\":2.3, \"tiga\":\"a\", \"empat\":True}\n",
        "print(type(a))\n",
        "print(\"a['satu'] =\", a[\"satu\"])\n",
        "print(\"a['empat'] =\", a[\"empat\"])\n",
        "\n",
        "\n"
      ],
      "execution_count": 47,
      "outputs": [
        {
          "output_type": "stream",
          "text": [
            "<class 'dict'>\n",
            "a['satu'] = 1\n",
            "a['empat'] = True\n"
          ],
          "name": "stdout"
        }
      ]
    },
    {
      "cell_type": "markdown",
      "metadata": {
        "id": "Y_mfIBaOCwFd"
      },
      "source": [
        "### **Konversi Struktur Data**"
      ]
    },
    {
      "cell_type": "markdown",
      "metadata": {
        "id": "PxZ9TS3rC02h"
      },
      "source": [
        "Fungsi untuk mengubah/konversi struktur data:\n",
        "\n",
        "a. list() : untuk mengubah menjadi list\n",
        "\n",
        "b. tuple() : untuk mengubah menjadi tuple\n",
        "\n",
        "c. set() : untuk mengubah menjadi set\n",
        "\n",
        "d. dict() : untuk mengubah menjadi dictonary"
      ]
    },
    {
      "cell_type": "markdown",
      "metadata": {
        "id": "hp1bG1BQC4zb"
      },
      "source": [
        "Contoh:"
      ]
    },
    {
      "cell_type": "code",
      "metadata": {
        "colab": {
          "base_uri": "https://localhost:8080/"
        },
        "id": "apEPtnDUtmkH",
        "outputId": "87ca5de9-1934-46e3-8cb2-7b3cf0751805"
      },
      "source": [
        "list1 = [1,2,3,4,5]\n",
        "list2 = [\"satu\",\"dua\",\"tiga\",\"empat\",\"lima\"]\n",
        "print(\"data = \", list1 , \",type =\", type(list1))"
      ],
      "execution_count": null,
      "outputs": [
        {
          "output_type": "stream",
          "text": [
            "data =  [1, 2, 3, 4, 5] ,type = <class 'list'>\n"
          ],
          "name": "stdout"
        }
      ]
    },
    {
      "cell_type": "code",
      "metadata": {
        "colab": {
          "base_uri": "https://localhost:8080/"
        },
        "id": "9hbpCgC7C9v3",
        "outputId": "5c7fa0ed-662c-4e1d-c091-37ddff0859f6"
      },
      "source": [
        "# Mengkonversi struktur data list\n",
        "kon_tuple = tuple(list1)\n",
        "kon_set = set(list1)\n",
        "kon_dict = dict(zip(list2,list1))\n",
        "\n",
        "# Melihat data yang telah dikonversi\n",
        "print(kon_tuple)\n",
        "print(kon_set)\n",
        "print(kon_dict)"
      ],
      "execution_count": null,
      "outputs": [
        {
          "output_type": "stream",
          "text": [
            "(1, 2, 3, 4, 5)\n",
            "{1, 2, 3, 4, 5}\n",
            "{'satu': 1, 'dua': 2, 'tiga': 3, 'empat': 4, 'lima': 5}\n"
          ],
          "name": "stdout"
        }
      ]
    },
    {
      "cell_type": "markdown",
      "metadata": {
        "id": "o5MfcC36Jpxu"
      },
      "source": [
        "Nah sampai sini, coba kamu tulis pemahaman kamu tentang List, Tuple, Set, dan Dictionary, tulis pake bahasa kamu sendiri ya:\n",
        "\n",
        "list bisa manipulasi, tuple tidak bisa dimanipulasi, set kurang lebih sama seperti himpunan dalam matematika, dictionary formatnya seperti tabel\n",
        "\n",
        "\n",
        "\n",
        "\n",
        "\n",
        "\n",
        "\n",
        "\n",
        "\n",
        "\n",
        "\n",
        "\n"
      ]
    },
    {
      "cell_type": "markdown",
      "metadata": {
        "id": "3uj7jo-sJ6EF"
      },
      "source": [
        "#**Udah Dulu Ya**\n",
        "\n",
        "Alhamdulillah\n",
        "\n",
        "\n",
        "\n",
        "\n",
        "\n",
        "\n",
        "\n"
      ]
    }
  ]
}